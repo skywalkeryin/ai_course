{
 "cells": [
  {
   "cell_type": "markdown",
   "metadata": {},
   "source": [
    "##  Task 5\n",
    "\n",
    "基于课程中决策树案例与 chapter5_task_data 数据，基于信息熵原理建立决策树模型。\n",
    "\n",
    "![image](./img.png)\n",
    "\n",
    "属性数值意义：  \n",
    "Skill 技能  \n",
    "0：不达标； 1：达标； 2：超强  \n",
    "Experience 经验  \n",
    "0：无相关经验； 1：有相关经验  \n",
    "Degree 学位   \n",
    "0：不符合； 1：符合  \n",
    "Income 收入期望  \n",
    "0：未达到期望； 1：达到期望  \n",
    "Y 结果  \n",
    "0：不适合该工作； 1：适合该工作  \n",
    "\n",
    "1、建立决策树模型、计算准确率  \n",
    "2、预测申请者 skill=1,experice=0,degree=1,Income=1 是否适合该工作；  \n",
    "3、可视化模型结构  \n",
    "4、修改 min_samples_leaf 参数，对比模型结果  \n",
    "\n",
    "提示：参考课程决策树讲解部分及 iris 分类实战项目完成作业，素材参见 git  "
   ]
  },
  {
   "cell_type": "code",
   "execution_count": 1,
   "metadata": {},
   "outputs": [],
   "source": [
    "import numpy as numpy\n",
    "import pandas as pd"
   ]
  },
  {
   "cell_type": "code",
   "execution_count": 3,
   "metadata": {},
   "outputs": [
    {
     "data": {
      "text/html": [
       "<div>\n",
       "<style scoped>\n",
       "    .dataframe tbody tr th:only-of-type {\n",
       "        vertical-align: middle;\n",
       "    }\n",
       "\n",
       "    .dataframe tbody tr th {\n",
       "        vertical-align: top;\n",
       "    }\n",
       "\n",
       "    .dataframe thead th {\n",
       "        text-align: right;\n",
       "    }\n",
       "</style>\n",
       "<table border=\"1\" class=\"dataframe\">\n",
       "  <thead>\n",
       "    <tr style=\"text-align: right;\">\n",
       "      <th></th>\n",
       "      <th>Skill</th>\n",
       "      <th>Experience</th>\n",
       "      <th>Degree</th>\n",
       "      <th>Income</th>\n",
       "      <th>y</th>\n",
       "    </tr>\n",
       "  </thead>\n",
       "  <tbody>\n",
       "    <tr>\n",
       "      <th>0</th>\n",
       "      <td>2</td>\n",
       "      <td>0</td>\n",
       "      <td>1</td>\n",
       "      <td>0</td>\n",
       "      <td>0</td>\n",
       "    </tr>\n",
       "    <tr>\n",
       "      <th>1</th>\n",
       "      <td>0</td>\n",
       "      <td>0</td>\n",
       "      <td>1</td>\n",
       "      <td>0</td>\n",
       "      <td>0</td>\n",
       "    </tr>\n",
       "    <tr>\n",
       "      <th>2</th>\n",
       "      <td>0</td>\n",
       "      <td>1</td>\n",
       "      <td>1</td>\n",
       "      <td>0</td>\n",
       "      <td>0</td>\n",
       "    </tr>\n",
       "    <tr>\n",
       "      <th>3</th>\n",
       "      <td>0</td>\n",
       "      <td>0</td>\n",
       "      <td>1</td>\n",
       "      <td>0</td>\n",
       "      <td>0</td>\n",
       "    </tr>\n",
       "    <tr>\n",
       "      <th>4</th>\n",
       "      <td>0</td>\n",
       "      <td>1</td>\n",
       "      <td>1</td>\n",
       "      <td>0</td>\n",
       "      <td>0</td>\n",
       "    </tr>\n",
       "  </tbody>\n",
       "</table>\n",
       "</div>"
      ],
      "text/plain": [
       "   Skill  Experience  Degree  Income  y\n",
       "0      2           0       1       0  0\n",
       "1      0           0       1       0  0\n",
       "2      0           1       1       0  0\n",
       "3      0           0       1       0  0\n",
       "4      0           1       1       0  0"
      ]
     },
     "execution_count": 3,
     "metadata": {},
     "output_type": "execute_result"
    }
   ],
   "source": [
    "# load the data\n",
    "data = pd.read_csv('chapter5_task_data.csv')\n",
    "data.head()"
   ]
  },
  {
   "cell_type": "code",
   "execution_count": 29,
   "metadata": {},
   "outputs": [
    {
     "name": "stdout",
     "output_type": "stream",
     "text": [
      "500\n"
     ]
    }
   ],
   "source": [
    "# define the X and Y\n",
    "X = data.drop(['y'], axis=1)\n",
    "\n",
    "y = data.loc[:,'y']\n",
    "# print(X.shape, y.shape)\n",
    "X.head()"
   ]
  },
  {
   "cell_type": "code",
   "execution_count": 8,
   "metadata": {},
   "outputs": [
    {
     "data": {
      "text/html": [
       "<style>#sk-container-id-1 {color: black;}#sk-container-id-1 pre{padding: 0;}#sk-container-id-1 div.sk-toggleable {background-color: white;}#sk-container-id-1 label.sk-toggleable__label {cursor: pointer;display: block;width: 100%;margin-bottom: 0;padding: 0.3em;box-sizing: border-box;text-align: center;}#sk-container-id-1 label.sk-toggleable__label-arrow:before {content: \"▸\";float: left;margin-right: 0.25em;color: #696969;}#sk-container-id-1 label.sk-toggleable__label-arrow:hover:before {color: black;}#sk-container-id-1 div.sk-estimator:hover label.sk-toggleable__label-arrow:before {color: black;}#sk-container-id-1 div.sk-toggleable__content {max-height: 0;max-width: 0;overflow: hidden;text-align: left;background-color: #f0f8ff;}#sk-container-id-1 div.sk-toggleable__content pre {margin: 0.2em;color: black;border-radius: 0.25em;background-color: #f0f8ff;}#sk-container-id-1 input.sk-toggleable__control:checked~div.sk-toggleable__content {max-height: 200px;max-width: 100%;overflow: auto;}#sk-container-id-1 input.sk-toggleable__control:checked~label.sk-toggleable__label-arrow:before {content: \"▾\";}#sk-container-id-1 div.sk-estimator input.sk-toggleable__control:checked~label.sk-toggleable__label {background-color: #d4ebff;}#sk-container-id-1 div.sk-label input.sk-toggleable__control:checked~label.sk-toggleable__label {background-color: #d4ebff;}#sk-container-id-1 input.sk-hidden--visually {border: 0;clip: rect(1px 1px 1px 1px);clip: rect(1px, 1px, 1px, 1px);height: 1px;margin: -1px;overflow: hidden;padding: 0;position: absolute;width: 1px;}#sk-container-id-1 div.sk-estimator {font-family: monospace;background-color: #f0f8ff;border: 1px dotted black;border-radius: 0.25em;box-sizing: border-box;margin-bottom: 0.5em;}#sk-container-id-1 div.sk-estimator:hover {background-color: #d4ebff;}#sk-container-id-1 div.sk-parallel-item::after {content: \"\";width: 100%;border-bottom: 1px solid gray;flex-grow: 1;}#sk-container-id-1 div.sk-label:hover label.sk-toggleable__label {background-color: #d4ebff;}#sk-container-id-1 div.sk-serial::before {content: \"\";position: absolute;border-left: 1px solid gray;box-sizing: border-box;top: 0;bottom: 0;left: 50%;z-index: 0;}#sk-container-id-1 div.sk-serial {display: flex;flex-direction: column;align-items: center;background-color: white;padding-right: 0.2em;padding-left: 0.2em;position: relative;}#sk-container-id-1 div.sk-item {position: relative;z-index: 1;}#sk-container-id-1 div.sk-parallel {display: flex;align-items: stretch;justify-content: center;background-color: white;position: relative;}#sk-container-id-1 div.sk-item::before, #sk-container-id-1 div.sk-parallel-item::before {content: \"\";position: absolute;border-left: 1px solid gray;box-sizing: border-box;top: 0;bottom: 0;left: 50%;z-index: -1;}#sk-container-id-1 div.sk-parallel-item {display: flex;flex-direction: column;z-index: 1;position: relative;background-color: white;}#sk-container-id-1 div.sk-parallel-item:first-child::after {align-self: flex-end;width: 50%;}#sk-container-id-1 div.sk-parallel-item:last-child::after {align-self: flex-start;width: 50%;}#sk-container-id-1 div.sk-parallel-item:only-child::after {width: 0;}#sk-container-id-1 div.sk-dashed-wrapped {border: 1px dashed gray;margin: 0 0.4em 0.5em 0.4em;box-sizing: border-box;padding-bottom: 0.4em;background-color: white;}#sk-container-id-1 div.sk-label label {font-family: monospace;font-weight: bold;display: inline-block;line-height: 1.2em;}#sk-container-id-1 div.sk-label-container {text-align: center;}#sk-container-id-1 div.sk-container {/* jupyter's `normalize.less` sets `[hidden] { display: none; }` but bootstrap.min.css set `[hidden] { display: none !important; }` so we also need the `!important` here to be able to override the default hidden behavior on the sphinx rendered scikit-learn.org. See: https://github.com/scikit-learn/scikit-learn/issues/21755 */display: inline-block !important;position: relative;}#sk-container-id-1 div.sk-text-repr-fallback {display: none;}</style><div id=\"sk-container-id-1\" class=\"sk-top-container\"><div class=\"sk-text-repr-fallback\"><pre>DecisionTreeClassifier(criterion=&#x27;entropy&#x27;)</pre><b>In a Jupyter environment, please rerun this cell to show the HTML representation or trust the notebook. <br />On GitHub, the HTML representation is unable to render, please try loading this page with nbviewer.org.</b></div><div class=\"sk-container\" hidden><div class=\"sk-item\"><div class=\"sk-estimator sk-toggleable\"><input class=\"sk-toggleable__control sk-hidden--visually\" id=\"sk-estimator-id-1\" type=\"checkbox\" checked><label for=\"sk-estimator-id-1\" class=\"sk-toggleable__label sk-toggleable__label-arrow\">DecisionTreeClassifier</label><div class=\"sk-toggleable__content\"><pre>DecisionTreeClassifier(criterion=&#x27;entropy&#x27;)</pre></div></div></div></div></div>"
      ],
      "text/plain": [
       "DecisionTreeClassifier(criterion='entropy')"
      ]
     },
     "execution_count": 8,
     "metadata": {},
     "output_type": "execute_result"
    }
   ],
   "source": [
    "#establish the decision tree model\n",
    "from sklearn import tree\n",
    "dc_tree = tree.DecisionTreeClassifier(criterion='entropy',min_samples_leaf=1)\n",
    "dc_tree.fit(X,y)"
   ]
  },
  {
   "cell_type": "code",
   "execution_count": 9,
   "metadata": {},
   "outputs": [],
   "source": [
    "# evaluate the model\n",
    "y_predict = dc_tree.predict(X)"
   ]
  },
  {
   "cell_type": "code",
   "execution_count": 10,
   "metadata": {},
   "outputs": [
    {
     "name": "stdout",
     "output_type": "stream",
     "text": [
      "accuracy score is 0.85\n"
     ]
    }
   ],
   "source": [
    "# evaluate the model\n",
    "from sklearn.metrics import accuracy_score\n",
    "accuracy = accuracy_score(y, y_predict)\n",
    "print(f'accuracy score is {accuracy}')"
   ]
  },
  {
   "cell_type": "code",
   "execution_count": 18,
   "metadata": {},
   "outputs": [
    {
     "name": "stdout",
     "output_type": "stream",
     "text": [
      "是否适合工作：  适合\n"
     ]
    },
    {
     "name": "stderr",
     "output_type": "stream",
     "text": [
      "c:\\Users\\yin789\\.virtualenvs\\ai_course-AGtSknBU\\Lib\\site-packages\\sklearn\\base.py:465: UserWarning: X does not have valid feature names, but DecisionTreeClassifier was fitted with feature names\n",
      "  warnings.warn(\n"
     ]
    }
   ],
   "source": [
    "# test \n",
    "y_test = dc_tree.predict([[1, 0, 1, 1]])\n",
    "\n",
    "print(f'是否适合工作：  {\"适合\" if y_test[0] == 1 else \"不适合\"}')"
   ]
  },
  {
   "cell_type": "code",
   "execution_count": 20,
   "metadata": {},
   "outputs": [],
   "source": [
    "import sys\n",
    "# add parent path\n",
    "sys.path.append('../')\n",
    "\n",
    "# build my own model\n",
    "from decision_tree import MyID3DecisionTreeClassifier\n",
    "id3_tree = MyID3DecisionTreeClassifier()\n",
    "id3_tree.fit(X,y)"
   ]
  },
  {
   "cell_type": "code",
   "execution_count": 28,
   "metadata": {},
   "outputs": [
    {
     "name": "stderr",
     "output_type": "stream",
     "text": [
      "d:\\project\\python\\ai\\ai_course\\chapter4\\task\\..\\decision_tree.py:227: FutureWarning: Series.__getitem__ treating keys as positions is deprecated. In a future version, integer keys will always be treated as labels (consistent with DataFrame behavior). To access a value by position, use `ser.iloc[pos]`\n",
      "  row_value = row[self.feature_names.get_loc(best_feature)]\n",
      "d:\\project\\python\\ai\\ai_course\\chapter4\\task\\..\\decision_tree.py:227: FutureWarning: Series.__getitem__ treating keys as positions is deprecated. In a future version, integer keys will always be treated as labels (consistent with DataFrame behavior). To access a value by position, use `ser.iloc[pos]`\n",
      "  row_value = row[self.feature_names.get_loc(best_feature)]\n",
      "d:\\project\\python\\ai\\ai_course\\chapter4\\task\\..\\decision_tree.py:227: FutureWarning: Series.__getitem__ treating keys as positions is deprecated. In a future version, integer keys will always be treated as labels (consistent with DataFrame behavior). To access a value by position, use `ser.iloc[pos]`\n",
      "  row_value = row[self.feature_names.get_loc(best_feature)]\n"
     ]
    },
    {
     "name": "stdout",
     "output_type": "stream",
     "text": [
      "['Skill', 0, 'Skill', 0, 'Skill', 0, 'Skill', 'Skill', 0, 'Skill', 'Skill', 'Skill', 0, 'Skill', 0, 'Skill', 'Skill', 'Skill', 0, 'Skill', 'Skill', 'Skill', 0, 'Skill', 'Skill', 'Skill', 'Skill', 0, 'Skill', 0, 0, 'Skill', 0, 0, 'Skill', 'Skill', 'Skill', 0, 'Skill', 'Skill', 'Skill', 0, 'Skill', 'Skill', 'Skill', 'Skill', 'Skill', 0, 0, 'Skill', 'Skill', 'Skill', 0, 'Skill', 0, 'Skill', 'Skill', 0, 'Skill', 'Skill', 'Skill', 'Skill', 'Skill', 0, 0, 'Skill', 'Skill', 0, 0, 'Skill', 0, 0, 'Skill', 'Skill', 'Skill', 0, 'Skill', 'Skill', 'Skill', 'Skill', 'Skill', 0, 0, 'Skill', 0, 'Skill', 0, 'Skill', 0, 0, 'Skill', 'Skill', 'Skill', 'Skill', 'Skill', 'Skill', 'Skill', 0, 'Skill', 0, 0, 0, 'Skill', 0, 0, 'Skill', 'Skill', 'Skill', 'Skill', 'Skill', 'Skill', 'Skill', 0, 'Skill', 'Skill', 'Skill', 'Skill', 'Skill', 'Skill', 'Skill', 'Skill', 'Skill', 'Skill', 'Skill', 'Skill', 'Skill', 0, 0, 0, 'Skill', 0, 'Skill', 'Skill', 0, 'Skill', 'Skill', 0, 'Skill', 'Skill', 'Skill', 'Skill', 'Skill', 0, 'Skill', 0, 'Skill', 'Skill', 'Skill', 0, 0, 'Skill', 0, 'Skill', 0, 'Skill', 0, 0, 'Skill', 0, 'Skill', 0, 'Skill', 'Skill', 0, 'Skill', 'Skill', 'Skill', 0, 'Skill', 'Skill', 'Skill', 0, 'Skill', 'Skill', 'Skill', 'Skill', 'Skill', 0, 0, 'Skill', 'Skill', 0, 0, 0, 0, 'Skill', 'Skill', 'Skill', 0, 'Skill', 'Skill', 0, 'Skill', 'Skill', 'Skill', 'Skill', 'Skill', 'Skill', 'Skill', 'Skill', 'Skill', 'Skill', 'Skill', 'Skill', 'Skill', 'Skill', 'Skill', 'Skill', 'Skill', 'Skill', 'Skill', 0, 'Skill', 0, 'Skill', 'Skill', 'Skill', 'Skill', 'Skill', 0, 0, 'Skill', 'Skill', 'Skill', 'Skill', 'Skill', 0, 'Skill', 'Skill', 'Skill', 'Skill', 0, 'Skill', 'Skill', 'Skill', 'Skill', 'Skill', 0, 'Skill', 0, 'Skill', 'Skill', 'Skill', 'Skill', 0, 'Skill', 'Skill', 'Skill', 'Skill', 0, 0, 0, 'Skill', 'Skill', 0, 'Skill', 'Skill', 'Skill', 'Skill', 0, 'Skill', 'Skill', 'Skill', 0, 'Skill', 'Skill', 'Skill', 'Skill', 'Skill', 'Skill', 'Skill', 0, 0, 'Skill', 'Skill', 'Skill', 'Skill', 0, 0, 'Skill', 'Skill', 'Skill', 'Skill', 'Skill', 'Skill', 'Skill', 'Skill', 'Skill', 0, 'Skill', 'Skill', 'Skill', 0, 'Skill', 'Skill', 0, 0, 'Skill', 0, 'Skill', 'Skill', 0, 0, 'Skill', 0, 'Skill', 'Skill', 'Skill', 'Skill', 'Skill', 'Skill', 'Skill', 'Skill', 'Skill', 'Skill', 'Skill', 0, 'Skill', 0, 'Skill', 'Skill', 'Skill', 0, 'Skill', 'Skill', 'Skill', 'Skill', 'Skill', 0, 'Skill', 'Skill', 'Skill', 0, 'Skill', 'Skill', 0, 0, 'Skill', 'Skill', 0, 'Skill', 'Skill', 'Skill', 0, 'Skill', 'Skill', 'Skill', 'Skill', 'Skill', 0, 'Skill', 'Skill', 'Skill', 'Skill', 0, 'Skill', 'Skill', 0, 'Skill', 0, 'Skill', 'Skill', 'Skill', 0, 'Skill', 'Skill', 'Skill', 0, 'Skill', 0, 'Skill', 'Skill', 'Skill', 'Skill', 'Skill', 'Skill', 'Skill', 'Skill', 'Skill', 0, 'Skill', 0, 'Skill', 'Skill', 'Skill', 'Skill', 'Skill', 0, 'Skill', 'Skill', 0, 'Skill', 'Skill', 'Skill', 'Skill', 'Skill', 'Skill', 'Skill', 0, 'Skill', 'Skill', 0, 0, 0, 'Skill', 0, 'Skill', 0, 0, 'Skill', 'Skill', 0, 'Skill', 'Skill', 'Skill', 'Skill', 'Skill', 0, 'Skill', 'Skill', 'Skill', 'Skill', 'Skill', 'Skill', 'Skill', 'Skill', 'Skill', 0, 0, 'Skill', 'Skill', 'Skill', 'Skill', 'Skill', 'Skill', 0, 'Skill', 'Skill', 'Skill', 'Skill', 'Skill', 'Skill', 'Skill', 'Skill', 0, 'Skill', 'Skill', 'Skill', 0, 'Skill', 0, 0, 'Skill', 'Skill', 0, 'Skill', 'Skill', 0, 0, 'Skill', 'Skill', 'Skill', 0, 'Skill', 'Skill', 'Skill', 0, 0, 'Skill', 'Skill', 'Skill', 0, 'Skill', 'Skill', 'Skill', 'Skill', 'Skill', 0, 'Skill', 0, 'Skill', 'Skill', 'Skill', 0, 'Skill', 0, 'Skill', 'Skill', 'Skill', 0, 'Skill', 'Skill', 'Skill', 'Skill', 'Skill', 'Skill', 'Skill', 'Skill', 'Skill', 'Skill']\n"
     ]
    },
    {
     "name": "stderr",
     "output_type": "stream",
     "text": [
      "d:\\project\\python\\ai\\ai_course\\chapter4\\task\\..\\decision_tree.py:227: FutureWarning: Series.__getitem__ treating keys as positions is deprecated. In a future version, integer keys will always be treated as labels (consistent with DataFrame behavior). To access a value by position, use `ser.iloc[pos]`\n",
      "  row_value = row[self.feature_names.get_loc(best_feature)]\n"
     ]
    }
   ],
   "source": [
    "y_predict_my = id3_tree.predict(X)\n",
    "print(y_predict_my)"
   ]
  },
  {
   "cell_type": "code",
   "execution_count": 22,
   "metadata": {},
   "outputs": [
    {
     "name": "stdout",
     "output_type": "stream",
     "text": [
      "accuracy score is 0.0\n"
     ]
    }
   ],
   "source": [
    "# evaluate the model\n",
    "from sklearn.metrics import accuracy_score\n",
    "accuracy = accuracy_score(y, y_predict_my)\n",
    "print(f'accuracy score is {accuracy}')"
   ]
  }
 ],
 "metadata": {
  "kernelspec": {
   "display_name": "ai_course-AGtSknBU",
   "language": "python",
   "name": "python3"
  },
  "language_info": {
   "codemirror_mode": {
    "name": "ipython",
    "version": 3
   },
   "file_extension": ".py",
   "mimetype": "text/x-python",
   "name": "python",
   "nbconvert_exporter": "python",
   "pygments_lexer": "ipython3",
   "version": "3.11.6"
  }
 },
 "nbformat": 4,
 "nbformat_minor": 2
}
