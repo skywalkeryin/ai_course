{
 "cells": [
  {
   "cell_type": "markdown",
   "metadata": {},
   "source": [
    "## 遍历 dataframe"
   ]
  },
  {
   "cell_type": "code",
   "execution_count": 1,
   "metadata": {},
   "outputs": [],
   "source": [
    "import pandas as pd"
   ]
  },
  {
   "cell_type": "code",
   "execution_count": 14,
   "metadata": {},
   "outputs": [
    {
     "name": "stdout",
     "output_type": "stream",
     "text": [
      "     name  degree  score\n",
      "0  aparna     MBA     90\n",
      "1  pankaj     BCA     39\n",
      "2  sudhir  M.Tech     62\n",
      "3   Geeku     MBA     99\n"
     ]
    }
   ],
   "source": [
    "\n",
    "# importing pandas as pd\n",
    "import pandas as pd\n",
    " \n",
    "# dictionary of lists\n",
    "dict = {'name': [\"aparna\", \"pankaj\", \"sudhir\", \"Geeku\"],\n",
    "        'degree': [\"MBA\", \"BCA\", \"M.Tech\", \"MBA\"],\n",
    "        'score': [90, 39, 62, 99]}\n",
    " \n",
    "# creating a dataframe from a dictionary\n",
    "df = pd.DataFrame(dict)\n",
    "\n",
    "print(df.head(10))\n"
   ]
  },
  {
   "cell_type": "code",
   "execution_count": 15,
   "metadata": {},
   "outputs": [
    {
     "name": "stdout",
     "output_type": "stream",
     "text": [
      "0 name      aparna\n",
      "degree       MBA\n",
      "score         90\n",
      "Name: 0, dtype: object\n",
      "1 name      pankaj\n",
      "degree       BCA\n",
      "score         39\n",
      "Name: 1, dtype: object\n",
      "2 name      sudhir\n",
      "degree    M.Tech\n",
      "score         62\n",
      "Name: 2, dtype: object\n",
      "3 name      Geeku\n",
      "degree      MBA\n",
      "score        99\n",
      "Name: 3, dtype: object\n"
     ]
    }
   ],
   "source": [
    " \n",
    "# iterating over rows using iterrows() function\n",
    "for i, j in df.iterrows():\n",
    "    print(i, j)\n",
    "    # print(df.loc[i, j])"
   ]
  },
  {
   "cell_type": "markdown",
   "metadata": {},
   "source": [
    "## 遍历过滤后的row 和 col"
   ]
  },
  {
   "cell_type": "code",
   "execution_count": 20,
   "metadata": {},
   "outputs": [
    {
     "name": "stdout",
     "output_type": "stream",
     "text": [
      "Index([0, 2], dtype='int64')\n",
      "0    0\n",
      "1    1\n",
      "2    0\n",
      "3    1\n",
      "Name: score, dtype: int64\n",
      "aparna\n",
      "sudhir\n"
     ]
    }
   ],
   "source": [
    "first_col = df.loc[:, 'name']\n",
    "score = df.loc[:, 'score']\n",
    "\n",
    "# 只选取score 为偶数的lie\n",
    "filterd_first_col = first_col[score % 2 == 0]\n",
    "print(filterd_first_col.index)\n",
    "print(score % 2)\n",
    "\n",
    "for i in range(len(filterd_first_col)):\n",
    "    print(filterd_first_col[filterd_first_col.index[i]])"
   ]
  },
  {
   "cell_type": "code",
   "execution_count": null,
   "metadata": {},
   "outputs": [],
   "source": []
  }
 ],
 "metadata": {
  "kernelspec": {
   "display_name": "ai_course-AGtSknBU",
   "language": "python",
   "name": "python3"
  },
  "language_info": {
   "codemirror_mode": {
    "name": "ipython",
    "version": 3
   },
   "file_extension": ".py",
   "mimetype": "text/x-python",
   "name": "python",
   "nbconvert_exporter": "python",
   "pygments_lexer": "ipython3",
   "version": "3.11.6"
  }
 },
 "nbformat": 4,
 "nbformat_minor": 2
}
