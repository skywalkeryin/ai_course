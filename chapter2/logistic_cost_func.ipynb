{
 "cells": [
  {
   "cell_type": "markdown",
   "metadata": {},
   "source": [
    "# Optional Lab: Cost Function for Logistic Regression\n",
    "\n",
    "## Goals\n",
    "In this lab, you will:\n",
    "- examine the implementation and utilize the cost function for logistic regression."
   ]
  },
  {
   "cell_type": "code",
   "execution_count": 6,
   "metadata": {},
   "outputs": [],
   "source": [
    "import numpy as np\n",
    "import matplotlib.pyplot as plt"
   ]
  },
  {
   "cell_type": "markdown",
   "metadata": {},
   "source": []
  },
  {
   "cell_type": "code",
   "execution_count": 31,
   "metadata": {},
   "outputs": [
    {
     "name": "stdout",
     "output_type": "stream",
     "text": [
      "wx = \n",
      "[[-6.  -1.5  3.   7.5 12. ]\n",
      " [-6.  -1.5  3.   7.5 12. ]\n",
      " [-6.  -1.5  3.   7.5 12. ]\n",
      " [-6.  -1.5  3.   7.5 12. ]\n",
      " [-6.  -1.5  3.   7.5 12. ]]\n",
      "by = \n",
      "[[  0.   0.   0.   0.   0.]\n",
      " [ -5.  -5.  -5.  -5.  -5.]\n",
      " [-10. -10. -10. -10. -10.]\n",
      " [-15. -15. -15. -15. -15.]\n",
      " [-20. -20. -20. -20. -20.]]\n"
     ]
    }
   ],
   "source": [
    "# plot a cost function \n",
    "wx, by = np.meshgrid(np.linspace(-6, 12, 5), np.linspace(0, -20, 5))\n",
    "# 创建二维 x, y 轴相应的坐标点，如下图所示,\n",
    "# wx 为创建的所有点的x坐标\n",
    "# by 为创建的所有点的y坐标\n",
    "print(\"wx = \")\n",
    "print(wx)\n",
    "print(\"by = \")\n",
    "print(by)"
   ]
  },
  {
   "cell_type": "code",
   "execution_count": 32,
   "metadata": {},
   "outputs": [
    {
     "data": {
      "image/png": "[encoded data removed]",
      "text/plain": [
       "<Figure size 640x480 with 1 Axes>"
      ]
     },
     "metadata": {},
     "output_type": "display_data"
    }
   ],
   "source": [
    "plt.plot(wx, by, marker='.', color='red', linestyle='none')\n",
    "plt.show()"
   ]
  },
  {
   "cell_type": "code",
   "execution_count": 36,
   "metadata": {},
   "outputs": [
    {
     "name": "stdout",
     "output_type": "stream",
     "text": [
      "wx.ravel() =  [-6.  -1.5  3.   7.5 12.  -6.  -1.5  3.   7.5 12.  -6.  -1.5  3.   7.5\n",
      " 12.  -6.  -1.5  3.   7.5 12.  -6.  -1.5  3.   7.5 12. ]\n",
      "wx.ravel() =  [  0.   0.   0.   0.   0.  -5.  -5.  -5.  -5.  -5. -10. -10. -10. -10.\n",
      " -10. -15. -15. -15. -15. -15. -20. -20. -20. -20. -20.]\n",
      "[[ -6.    0. ]\n",
      " [ -1.5   0. ]\n",
      " [  3.    0. ]\n",
      " [  7.5   0. ]\n",
      " [ 12.    0. ]\n",
      " [ -6.   -5. ]\n",
      " [ -1.5  -5. ]\n",
      " [  3.   -5. ]\n",
      " [  7.5  -5. ]\n",
      " [ 12.   -5. ]\n",
      " [ -6.  -10. ]\n",
      " [ -1.5 -10. ]\n",
      " [  3.  -10. ]\n",
      " [  7.5 -10. ]\n",
      " [ 12.  -10. ]\n",
      " [ -6.  -15. ]\n",
      " [ -1.5 -15. ]\n",
      " [  3.  -15. ]\n",
      " [  7.5 -15. ]\n",
      " [ 12.  -15. ]\n",
      " [ -6.  -20. ]\n",
      " [ -1.5 -20. ]\n",
      " [  3.  -20. ]\n",
      " [  7.5 -20. ]\n",
      " [ 12.  -20. ]]\n",
      "(25, 2)\n"
     ]
    }
   ],
   "source": [
    "print(\"wx.ravel() = \", wx.ravel())\n",
    "print(\"wx.ravel() = \", by.ravel())\n",
    "points = np.c_[wx.ravel(), by.ravel()]\n",
    "print(points)\n",
    "print(points.shape)\n"
   ]
  },
  {
   "cell_type": "code",
   "execution_count": 27,
   "metadata": {},
   "outputs": [
    {
     "data": {
      "text/plain": [
       "array([[1, 2, 3, 4],\n",
       "       [1, 2, 3, 5]])"
      ]
     },
     "execution_count": 27,
     "metadata": {},
     "output_type": "execute_result"
    }
   ],
   "source": [
    "a = np.array([[1,2,3], [1, 2, 3]])\n",
    "a.shape\n",
    "np.c_[np.array([[1,2,3], [1, 2, 3]]), np.array([4,5])]\n",
    "# np.c_[np.array([[1, 1],[2, 2],[3, 3]]), np.array([[4, 1],[5, 1],[6, 1]])]"
   ]
  },
  {
   "cell_type": "code",
   "execution_count": null,
   "metadata": {},
   "outputs": [],
   "source": []
  }
 ],
 "metadata": {
  "kernelspec": {
   "display_name": "ai_course-AGtSknBU",
   "language": "python",
   "name": "python3"
  },
  "language_info": {
   "codemirror_mode": {
    "name": "ipython",
    "version": 3
   },
   "file_extension": ".py",
   "mimetype": "text/x-python",
   "name": "python",
   "nbconvert_exporter": "python",
   "pygments_lexer": "ipython3",
   "version": "3.11.6"
  }
 },
 "nbformat": 4,
 "nbformat_minor": 2
}
